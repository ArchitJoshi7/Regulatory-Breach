{
  "cells": [
    {
      "cell_type": "code",
      "source": [
        "import smtplib\n",
        "from email.mime.text import MIMEText\n",
        "from email.mime.multipart import MIMEMultipart\n",
        "import joblib\n",
        "import pandas as pd\n",
        "\n",
        "# Load model\n",
        "model = joblib.load(\"trained_model.pkl\")\n",
        "\n",
        "# Load new data (simulate with X_test)\n",
        "X_new = pd.read_csv(\"X_test.csv\")\n",
        "preds = model.predict(X_new)\n",
        "results = X_new.copy()\n",
        "results['predicted_breach'] = preds\n",
        "\n",
        "# Filter true breaches\n",
        "true_breaches = results[results['predicted_breach'] == 1]\n",
        "\n",
        "if not true_breaches.empty:\n",
        "    # Email content\n",
        "    msg = MIMEMultipart()\n",
        "    msg['From'] = \"your_email@gmail.com\"\n",
        "    msg['To'] = \"recipient_email@gmail.com\"\n",
        "    msg['Subject'] = f\"Regulatory Breach Alert - {len(true_breaches)} Issues Found\"\n",
        "\n",
        "    body = \"\"\"<html><body><p>🚨 Breaches Detected:</p>\"\"\" + true_breaches.to_html(index=False) + \"</body></html>\"\n",
        "    msg.attach(MIMEText(body, 'html'))\n",
        "\n",
        "    # Send via Gmail SMTP\n",
        "    server = smtplib.SMTP('smtp.gmail.com', 587)\n",
        "    server.starttls()\n",
        "    server.login(\"your_email@gmail.com\", \"your_app_password\")\n",
        "    server.send_message(msg)\n",
        "    server.quit()\n",
        "else:\n",
        "    print(\"No breaches found. Email not sent.\")"
      ],
      "outputs": [],
      "execution_count": 3,
      "metadata": {
        "gather": {
          "logged": 1750599459932
        }
      }
    }
  ],
  "metadata": {
    "kernelspec": {
      "name": "python310-sdkv2",
      "language": "python",
      "display_name": "Python 3.10 - SDK v2"
    },
    "language_info": {
      "name": "python",
      "version": "3.10.16",
      "mimetype": "text/x-python",
      "codemirror_mode": {
        "name": "ipython",
        "version": 3
      },
      "pygments_lexer": "ipython3",
      "nbconvert_exporter": "python",
      "file_extension": ".py"
    },
    "microsoft": {
      "ms_spell_check": {
        "ms_spell_check_language": "en"
      },
      "host": {
        "AzureML": {
          "notebookHasBeenCompleted": true
        }
      }
    },
    "kernel_info": {
      "name": "python310-sdkv2"
    },
    "nteract": {
      "version": "nteract-front-end@1.0.0"
    }
  },
  "nbformat": 4,
  "nbformat_minor": 2
}